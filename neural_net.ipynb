{
 "cells": [
  {
   "attachments": {},
   "cell_type": "markdown",
   "metadata": {},
   "source": [
    "##What is Machine learning?  \n",
    "ML is a subdomain of computer science  that focus on Algorithm which helps a computer learn from data without explicet programing\n",
    "\n"
   ]
  },
  {
   "attachments": {},
   "cell_type": "markdown",
   "metadata": {},
   "source": [
    "What is explicit Programing?  \n",
    "When we need to teach or code to tell machine what to do is know as explicit programing ,but in machine learning  it learn on it own through dataset "
   ]
  },
  {
   "attachments": {},
   "cell_type": "markdown",
   "metadata": {},
   "source": [
    "AI vs ML vs DS\n",
    "\n",
    "AI-Artificial intelligence is an area of computer science, where the goal is to enalbe computer and machine to perform human-like tasks and simulate human bhehavior.\n",
    "\n",
    "ML- Machine learning is subset of AI that tries to solve a specific problen and make predictionds using data\n",
    "\n",
    "DS- Data science is field that attempts to find patterns and draw insights from data (might use ML)\n"
   ]
  },
  {
   "attachments": {},
   "cell_type": "markdown",
   "metadata": {},
   "source": [
    "Type of Machine learning?  \n",
    "\n",
    "1.Supervised learning- Uses labeeled input(meaning the input has a corresponding output label) to train models and learn output(we have give input correct othervise it will give error we have to give input)\n",
    "\n",
    "2.Unsupervised Learning- Uses unlabeled data to learn about pattern in data (we dont need to give input as it understand by it self)\n",
    "\n",
    "3.Reinforcement Learning- agent learning in interactive envirnment based on rewards and penalties also learn from feedback (example baby learn to speak and act accordng to envoirnment and we traing dog it dont no what is good and bad )\n"
   ]
  },
  {
   "attachments": {},
   "cell_type": "markdown",
   "metadata": {},
   "source": [
    "Input(features)----Model-----output(prediction)\n",
    "This is how ML model works"
   ]
  },
  {
   "attachments": {},
   "cell_type": "markdown",
   "metadata": {},
   "source": [
    "Qualitative-  categorical data(finite number of categories or group)(eg-category or groups) (male ,femail)(location,country etc)(NOMINAL DATA-no inherent order)   \n",
    "There is also a term known as ONE-HOT ENCODING- which mean take (0,0,0,1)(0,0,1,0)      \n",
    "Quantitative- Numerical valued data (could be discrete or contnuous)(continus like from 1 to continue)(Discreat like randoms)"
   ]
  },
  {
   "attachments": {},
   "cell_type": "markdown",
   "metadata": {},
   "source": [
    "Two Type of classification      \n",
    "1.Binary(yes or no, 0 or 1)-positive/negative,cat/dog,spam/not spam only 2 factor consider (predicting between two things)    \n",
    "\n",
    "2.Muticlass Classification-cat/dog/lizard/dolphine,orande,apple,mango,plant species, --means multiple attribute(predicting between 2 or more things)"
   ]
  },
  {
   "attachments": {},
   "cell_type": "markdown",
   "metadata": {},
   "source": [
    "Supervised learning tasks    \n",
    "1.classification \n",
    "2.Regression"
   ]
  },
  {
   "attachments": {},
   "cell_type": "markdown",
   "metadata": {},
   "source": [
    "X=Is feature data,   y=label data or last column or output we want"
   ]
  },
  {
   "attachments": {},
   "cell_type": "markdown",
   "metadata": {},
   "source": [
    "one problen come when we use model is we create a model with history dataset but what about future data set so we need use 3 type of data set given below"
   ]
  },
  {
   "attachments": {},
   "cell_type": "markdown",
   "metadata": {},
   "source": [
    "Supervised learning dataset  \n",
    "1.Training dataset= 60%   or 80%             \n",
    "2.validation dataset=20%  or 10%                      \n",
    "3.testing dataset=20%    or 10%                          \n",
    "there based on the accuracy of the model we take any percentage to fit model\n"
   ]
  },
  {
   "attachments": {},
   "cell_type": "markdown",
   "metadata": {},
   "source": [
    "Training data (be like)              \n",
    "Training set -- model ---- output data + original data (comparing both the data difference and make adjusment with output data) this methiod is known as loss                      \n",
    "\n",
    "Validation set (be like)                    \n",
    "Validation set used as reality check during/after training to ensure model can handle unseen data (this step is after traing data)\n",
    "             \n",
    "which model to chose after all this eg=         \n",
    "model A = loss=1.3           \n",
    "model B= loss=1.5 (worse dont chose this model bcz high loss)   \n",
    "model C=loss=0.5 (it is best model bcz the loss is less)   \n",
    "Model D=loss=0.9\n",
    "\n",
    "\n"
   ]
  },
  {
   "attachments": {},
   "cell_type": "markdown",
   "metadata": {},
   "source": [
    "Loss is the difference betwen (Loss=prediction value - label value )                   \n",
    "As loss decreaase it increase the performance better"
   ]
  },
  {
   "attachments": {},
   "cell_type": "markdown",
   "metadata": {},
   "source": [
    "After that we take model C     \n",
    "Test set used to check how generalizable the final chosen model is (FINAL REPORT PERFORMANCE) after output choosing model C                   \n"
   ]
  },
  {
   "attachments": {},
   "cell_type": "markdown",
   "metadata": {},
   "source": [
    "Loss=-1/N*sum(y real * log(y predict) + (1-y real) * log((1-y predict)))"
   ]
  },
  {
   "cell_type": "code",
   "execution_count": 2,
   "metadata": {},
   "outputs": [],
   "source": [
    "import numpy as np\n",
    "import pandas as pd \n",
    "import matplotlib.pyplot as plt\n",
    "from sklearn.preprocessing import StandardScaler\n",
    "from imblearn.over_sampling import RandomOverSampler   #take more from less class keep sampling to increase data set in x axit to (fit or balance the dataset x and y)\n",
    "#imblearn is use to genrate randome data to fit or balance the model"
   ]
  },
  {
   "cell_type": "code",
   "execution_count": 3,
   "metadata": {},
   "outputs": [
    {
     "data": {
      "text/html": [
       "<div>\n",
       "<style scoped>\n",
       "    .dataframe tbody tr th:only-of-type {\n",
       "        vertical-align: middle;\n",
       "    }\n",
       "\n",
       "    .dataframe tbody tr th {\n",
       "        vertical-align: top;\n",
       "    }\n",
       "\n",
       "    .dataframe thead th {\n",
       "        text-align: right;\n",
       "    }\n",
       "</style>\n",
       "<table border=\"1\" class=\"dataframe\">\n",
       "  <thead>\n",
       "    <tr style=\"text-align: right;\">\n",
       "      <th></th>\n",
       "      <th>fLength</th>\n",
       "      <th>fWidth</th>\n",
       "      <th>fSize</th>\n",
       "      <th>fConc</th>\n",
       "      <th>fConc1</th>\n",
       "      <th>fAsyn</th>\n",
       "      <th>fM3Long</th>\n",
       "      <th>fM3Trans</th>\n",
       "      <th>fAlpha</th>\n",
       "      <th>fDist</th>\n",
       "      <th>class</th>\n",
       "    </tr>\n",
       "  </thead>\n",
       "  <tbody>\n",
       "    <tr>\n",
       "      <th>0</th>\n",
       "      <td>28.7967</td>\n",
       "      <td>16.0021</td>\n",
       "      <td>2.6449</td>\n",
       "      <td>0.3918</td>\n",
       "      <td>0.1982</td>\n",
       "      <td>27.7004</td>\n",
       "      <td>22.0110</td>\n",
       "      <td>-8.2027</td>\n",
       "      <td>40.0920</td>\n",
       "      <td>81.8828</td>\n",
       "      <td>g</td>\n",
       "    </tr>\n",
       "    <tr>\n",
       "      <th>1</th>\n",
       "      <td>31.6036</td>\n",
       "      <td>11.7235</td>\n",
       "      <td>2.5185</td>\n",
       "      <td>0.5303</td>\n",
       "      <td>0.3773</td>\n",
       "      <td>26.2722</td>\n",
       "      <td>23.8238</td>\n",
       "      <td>-9.9574</td>\n",
       "      <td>6.3609</td>\n",
       "      <td>205.2610</td>\n",
       "      <td>g</td>\n",
       "    </tr>\n",
       "    <tr>\n",
       "      <th>2</th>\n",
       "      <td>162.0520</td>\n",
       "      <td>136.0310</td>\n",
       "      <td>4.0612</td>\n",
       "      <td>0.0374</td>\n",
       "      <td>0.0187</td>\n",
       "      <td>116.7410</td>\n",
       "      <td>-64.8580</td>\n",
       "      <td>-45.2160</td>\n",
       "      <td>76.9600</td>\n",
       "      <td>256.7880</td>\n",
       "      <td>g</td>\n",
       "    </tr>\n",
       "    <tr>\n",
       "      <th>3</th>\n",
       "      <td>23.8172</td>\n",
       "      <td>9.5728</td>\n",
       "      <td>2.3385</td>\n",
       "      <td>0.6147</td>\n",
       "      <td>0.3922</td>\n",
       "      <td>27.2107</td>\n",
       "      <td>-6.4633</td>\n",
       "      <td>-7.1513</td>\n",
       "      <td>10.4490</td>\n",
       "      <td>116.7370</td>\n",
       "      <td>g</td>\n",
       "    </tr>\n",
       "    <tr>\n",
       "      <th>4</th>\n",
       "      <td>75.1362</td>\n",
       "      <td>30.9205</td>\n",
       "      <td>3.1611</td>\n",
       "      <td>0.3168</td>\n",
       "      <td>0.1832</td>\n",
       "      <td>-5.5277</td>\n",
       "      <td>28.5525</td>\n",
       "      <td>21.8393</td>\n",
       "      <td>4.6480</td>\n",
       "      <td>356.4620</td>\n",
       "      <td>g</td>\n",
       "    </tr>\n",
       "  </tbody>\n",
       "</table>\n",
       "</div>"
      ],
      "text/plain": [
       "    fLength    fWidth   fSize   fConc  fConc1     fAsyn   fM3Long   fM3Trans  \\\n",
       "0   28.7967   16.0021  2.6449  0.3918  0.1982   27.7004   22.0110    -8.2027   \n",
       "1   31.6036   11.7235  2.5185  0.5303  0.3773   26.2722   23.8238    -9.9574   \n",
       "2  162.0520  136.0310  4.0612  0.0374  0.0187  116.7410  -64.8580   -45.2160   \n",
       "3   23.8172    9.5728  2.3385  0.6147  0.3922   27.2107   -6.4633    -7.1513   \n",
       "4   75.1362   30.9205  3.1611  0.3168  0.1832   -5.5277   28.5525    21.8393   \n",
       "\n",
       "    fAlpha     fDist class  \n",
       "0  40.0920   81.8828     g  \n",
       "1   6.3609  205.2610     g  \n",
       "2  76.9600  256.7880     g  \n",
       "3  10.4490  116.7370     g  \n",
       "4   4.6480  356.4620     g  "
      ]
     },
     "execution_count": 3,
     "metadata": {},
     "output_type": "execute_result"
    }
   ],
   "source": [
    "cols=['fLength','fWidth','fSize','fConc','fConc1','fAsyn',' fM3Long',' fM3Trans','fAlpha',' fDist','class']\n",
    "df=pd.read_csv(\"magic04.data\",names=cols) #as u can see there is data but no colum define so we add column given above\n",
    "df.head()"
   ]
  },
  {
   "cell_type": "code",
   "execution_count": 4,
   "metadata": {},
   "outputs": [
    {
     "data": {
      "text/plain": [
       "array(['g', 'h'], dtype=object)"
      ]
     },
     "execution_count": 4,
     "metadata": {},
     "output_type": "execute_result"
    }
   ],
   "source": [
    "df['class'].unique() #g= gamma(signal), h=hadron(background)"
   ]
  },
  {
   "cell_type": "code",
   "execution_count": 5,
   "metadata": {},
   "outputs": [],
   "source": [
    "#now in this step we are converting g and h with 0 and 1\n",
    "df['class']=(df['class']=='g').astype(int)"
   ]
  },
  {
   "attachments": {},
   "cell_type": "markdown",
   "metadata": {},
   "source": [
    "1.For predicting model we need some feature point in data set and with the help of feature we will pridicting class means (either it hadron or gamma)    \n",
    "2.So all the column name is feature except class coumn class we have to predict by traing model"
   ]
  },
  {
   "attachments": {},
   "cell_type": "markdown",
   "metadata": {},
   "source": [
    "we have 10 different feature and one class is predictable factor\n"
   ]
  },
  {
   "cell_type": "code",
   "execution_count": 6,
   "metadata": {},
   "outputs": [
    {
     "data": {
      "text/html": [
       "<div>\n",
       "<style scoped>\n",
       "    .dataframe tbody tr th:only-of-type {\n",
       "        vertical-align: middle;\n",
       "    }\n",
       "\n",
       "    .dataframe tbody tr th {\n",
       "        vertical-align: top;\n",
       "    }\n",
       "\n",
       "    .dataframe thead th {\n",
       "        text-align: right;\n",
       "    }\n",
       "</style>\n",
       "<table border=\"1\" class=\"dataframe\">\n",
       "  <thead>\n",
       "    <tr style=\"text-align: right;\">\n",
       "      <th></th>\n",
       "      <th>fLength</th>\n",
       "      <th>fWidth</th>\n",
       "      <th>fSize</th>\n",
       "      <th>fConc</th>\n",
       "      <th>fConc1</th>\n",
       "      <th>fAsyn</th>\n",
       "      <th>fM3Long</th>\n",
       "      <th>fM3Trans</th>\n",
       "      <th>fAlpha</th>\n",
       "      <th>fDist</th>\n",
       "      <th>class</th>\n",
       "    </tr>\n",
       "  </thead>\n",
       "  <tbody>\n",
       "    <tr>\n",
       "      <th>0</th>\n",
       "      <td>28.7967</td>\n",
       "      <td>16.0021</td>\n",
       "      <td>2.6449</td>\n",
       "      <td>0.3918</td>\n",
       "      <td>0.1982</td>\n",
       "      <td>27.7004</td>\n",
       "      <td>22.0110</td>\n",
       "      <td>-8.2027</td>\n",
       "      <td>40.0920</td>\n",
       "      <td>81.8828</td>\n",
       "      <td>1</td>\n",
       "    </tr>\n",
       "    <tr>\n",
       "      <th>1</th>\n",
       "      <td>31.6036</td>\n",
       "      <td>11.7235</td>\n",
       "      <td>2.5185</td>\n",
       "      <td>0.5303</td>\n",
       "      <td>0.3773</td>\n",
       "      <td>26.2722</td>\n",
       "      <td>23.8238</td>\n",
       "      <td>-9.9574</td>\n",
       "      <td>6.3609</td>\n",
       "      <td>205.2610</td>\n",
       "      <td>1</td>\n",
       "    </tr>\n",
       "    <tr>\n",
       "      <th>2</th>\n",
       "      <td>162.0520</td>\n",
       "      <td>136.0310</td>\n",
       "      <td>4.0612</td>\n",
       "      <td>0.0374</td>\n",
       "      <td>0.0187</td>\n",
       "      <td>116.7410</td>\n",
       "      <td>-64.8580</td>\n",
       "      <td>-45.2160</td>\n",
       "      <td>76.9600</td>\n",
       "      <td>256.7880</td>\n",
       "      <td>1</td>\n",
       "    </tr>\n",
       "    <tr>\n",
       "      <th>3</th>\n",
       "      <td>23.8172</td>\n",
       "      <td>9.5728</td>\n",
       "      <td>2.3385</td>\n",
       "      <td>0.6147</td>\n",
       "      <td>0.3922</td>\n",
       "      <td>27.2107</td>\n",
       "      <td>-6.4633</td>\n",
       "      <td>-7.1513</td>\n",
       "      <td>10.4490</td>\n",
       "      <td>116.7370</td>\n",
       "      <td>1</td>\n",
       "    </tr>\n",
       "    <tr>\n",
       "      <th>4</th>\n",
       "      <td>75.1362</td>\n",
       "      <td>30.9205</td>\n",
       "      <td>3.1611</td>\n",
       "      <td>0.3168</td>\n",
       "      <td>0.1832</td>\n",
       "      <td>-5.5277</td>\n",
       "      <td>28.5525</td>\n",
       "      <td>21.8393</td>\n",
       "      <td>4.6480</td>\n",
       "      <td>356.4620</td>\n",
       "      <td>1</td>\n",
       "    </tr>\n",
       "  </tbody>\n",
       "</table>\n",
       "</div>"
      ],
      "text/plain": [
       "    fLength    fWidth   fSize   fConc  fConc1     fAsyn   fM3Long   fM3Trans  \\\n",
       "0   28.7967   16.0021  2.6449  0.3918  0.1982   27.7004   22.0110    -8.2027   \n",
       "1   31.6036   11.7235  2.5185  0.5303  0.3773   26.2722   23.8238    -9.9574   \n",
       "2  162.0520  136.0310  4.0612  0.0374  0.0187  116.7410  -64.8580   -45.2160   \n",
       "3   23.8172    9.5728  2.3385  0.6147  0.3922   27.2107   -6.4633    -7.1513   \n",
       "4   75.1362   30.9205  3.1611  0.3168  0.1832   -5.5277   28.5525    21.8393   \n",
       "\n",
       "    fAlpha     fDist  class  \n",
       "0  40.0920   81.8828      1  \n",
       "1   6.3609  205.2610      1  \n",
       "2  76.9600  256.7880      1  \n",
       "3  10.4490  116.7370      1  \n",
       "4   4.6480  356.4620      1  "
      ]
     },
     "execution_count": 6,
     "metadata": {},
     "output_type": "execute_result"
    }
   ],
   "source": [
    "df.head()#as u can see g and h change to 0 and 1"
   ]
  },
  {
   "cell_type": "code",
   "execution_count": 7,
   "metadata": {},
   "outputs": [
    {
     "data": {
      "image/png": "[encoded data removed]",
      "text/plain": [
       "<Figure size 432x288 with 1 Axes>"
      ]
     },
     "metadata": {
      "needs_background": "light"
     },
     "output_type": "display_data"
    },
    {
     "data": {
      "image/png": "[encoded data removed]",
      "text/plain": [
       "<Figure size 432x288 with 1 Axes>"
      ]
     },
     "metadata": {
      "needs_background": "light"
     },
     "output_type": "display_data"
    },
    {
     "data": {
      "image/png": "[encoded data removed]",
      "text/plain": [
       "<Figure size 432x288 with 1 Axes>"
      ]
     },
     "metadata": {
      "needs_background": "light"
     },
     "output_type": "display_data"
    },
    {
     "data": {
      "image/png": "[encoded data removed]",
      "text/plain": [
       "<Figure size 432x288 with 1 Axes>"
      ]
     },
     "metadata": {
      "needs_background": "light"
     },
     "output_type": "display_data"
    },
    {
     "data": {
      "image/png": "[encoded data removed]",
      "text/plain": [
       "<Figure size 432x288 with 1 Axes>"
      ]
     },
     "metadata": {
      "needs_background": "light"
     },
     "output_type": "display_data"
    },
    {
     "data": {
      "image/png": "[encoded data removed]",
      "text/plain": [
       "<Figure size 432x288 with 1 Axes>"
      ]
     },
     "metadata": {
      "needs_background": "light"
     },
     "output_type": "display_data"
    },
    {
     "data": {
      "image/png": "[encoded data removed]",
      "text/plain": [
       "<Figure size 432x288 with 1 Axes>"
      ]
     },
     "metadata": {
      "needs_background": "light"
     },
     "output_type": "display_data"
    },
    {
     "data": {
      "image/png": "[encoded data removed]",
      "text/plain": [
       "<Figure size 432x288 with 1 Axes>"
      ]
     },
     "metadata": {
      "needs_background": "light"
     },
     "output_type": "display_data"
    },
    {
     "data": {
      "image/png": "[encoded data removed]",
      "text/plain": [
       "<Figure size 432x288 with 1 Axes>"
      ]
     },
     "metadata": {
      "needs_background": "light"
     },
     "output_type": "display_data"
    },
    {
     "data": {
      "image/png": "[encoded data removed]",
      "text/plain": [
       "<Figure size 432x288 with 1 Axes>"
      ]
     },
     "metadata": {
      "needs_background": "light"
     },
     "output_type": "display_data"
    }
   ],
   "source": [
    "for label in cols[:-1]: #semicolan means upto last item\n",
    "    plt.hist(df[df['class']==1][label],color='blue',label='gamma',alpha=0.7,density=True)\n",
    "    plt.hist(df[df['class']==0][label],color='red',label='hadron',alpha=0.7,density=True)\n",
    "    plt.title(label)\n",
    "    plt.ylabel('probability') #giving y axis\n",
    "    plt.xlabel(label) #giving x axis \n",
    "    plt.legend()\n",
    "    plt.show() #this line mean show the graph \n",
    "\n"
   ]
  },
  {
   "attachments": {},
   "cell_type": "markdown",
   "metadata": {},
   "source": [
    "Train, validation, test datasets"
   ]
  },
  {
   "cell_type": "code",
   "execution_count": 16,
   "metadata": {},
   "outputs": [],
   "source": [
    "train,valid,test=np.split(df.sample(frac=1),[int(0.6*len(df)),int(0.8*len(df))])\n",
    "#in this line we split data in valid from 60 to 80 % of dataset in length and 80 to 100% we use for testing in total no of line dataset"
   ]
  },
  {
   "attachments": {},
   "cell_type": "markdown",
   "metadata": {},
   "source": [
    "We split data           \n",
    "1 to 60%=train            \n",
    "60 to 80%=  valid              \n",
    "80 to 100%= test of length (total no. of row )             \n",
    "we compare the output of 80 to 100% and compare with original data if our output is same as original data then is best fit model (original data means label data last column of 0 and 1)"
   ]
  },
  {
   "cell_type": "code",
   "execution_count": 9,
   "metadata": {},
   "outputs": [],
   "source": [
    "#label is the last things (stack means hodizontal) this is fitting model step train data\n",
    "def scale_dataset(dataframe, oversample=False):\n",
    "    x=dataframe[dataframe.columns[:-1]].values #[:-1]= this mean we using x axis from statrt to -1 coumn for train or valid\n",
    "    y=dataframe[dataframe.columns[-1]].values#[-1]= this line means we using last column means label data\n",
    "\n",
    "    scaler=StandardScaler() #import library sklearn\n",
    "    x=scaler.fit_transform(x)# this line means fit and transforn x axis\n",
    "\n",
    "    if oversample: #ros means random over sample\n",
    "        ros=RandomOverSampler()  #this oversample mean adding sample to dataset\n",
    "        x,y=ros.fit_resample(x,y)\n",
    "        \n",
    "    data=np.hstack((x,np.reshape(y,(-1,1)))) #this line means arrange in horizontal (x is 2 dimendtional and y is 1 dimenstinal)bcz it only has label data\n",
    "\n",
    "    return data,x,y\n"
   ]
  },
  {
   "cell_type": "code",
   "execution_count": 10,
   "metadata": {},
   "outputs": [
    {
     "name": "stdout",
     "output_type": "stream",
     "text": [
      "7402\n",
      "4010\n"
     ]
    }
   ],
   "source": [
    "print(len(train[train['class']==1]))#gamma this is for this is use to check the no of gamma content in data\n",
    "print(len(train[train['class']==0]))#hadron this is for check no of hadron in data"
   ]
  },
  {
   "attachments": {},
   "cell_type": "markdown",
   "metadata": {},
   "source": [
    "Training data"
   ]
  },
  {
   "cell_type": "code",
   "execution_count": 11,
   "metadata": {},
   "outputs": [],
   "source": [
    "train,x_train,y_train=scale_dataset(train,oversample=True)  "
   ]
  },
  {
   "cell_type": "code",
   "execution_count": 12,
   "metadata": {},
   "outputs": [
    {
     "data": {
      "text/plain": [
       "14804"
      ]
     },
     "execution_count": 12,
     "metadata": {},
     "output_type": "execute_result"
    }
   ],
   "source": [
    "len(y_train) #after using random data imblearn library we see that it git increses the data length means row"
   ]
  },
  {
   "cell_type": "code",
   "execution_count": 13,
   "metadata": {},
   "outputs": [
    {
     "data": {
      "text/plain": [
       "7402"
      ]
     },
     "execution_count": 13,
     "metadata": {},
     "output_type": "execute_result"
    }
   ],
   "source": [
    "sum(y_train==1)# as u can see no. gaama means 1 "
   ]
  },
  {
   "cell_type": "code",
   "execution_count": 14,
   "metadata": {},
   "outputs": [
    {
     "data": {
      "text/plain": [
       "7402"
      ]
     },
     "execution_count": 14,
     "metadata": {},
     "output_type": "execute_result"
    }
   ],
   "source": [
    "sum(y_train==0)#as u can see no of hadron means 0 "
   ]
  },
  {
   "attachments": {},
   "cell_type": "markdown",
   "metadata": {},
   "source": [
    "Now both r balance gamma and hadrom 1 and 0 = 7408"
   ]
  },
  {
   "cell_type": "code",
   "execution_count": 17,
   "metadata": {},
   "outputs": [],
   "source": [
    "train,x_train,y_train=scale_dataset(train,oversample=True)\n",
    "valid,x_valid,y_valid=scale_dataset(valid,oversample=False)\n",
    "test,x_test,y_test=scale_dataset(test,oversample=False)  #keep in mind if error show then run spliting code or blocks "
   ]
  },
  {
   "attachments": {},
   "cell_type": "markdown",
   "metadata": {},
   "source": [
    "Till now our data is properly formated"
   ]
  },
  {
   "attachments": {},
   "cell_type": "markdown",
   "metadata": {},
   "source": [
    "We use packeges bcz we dont have to manually code so that no erroe occur it will be slow and bucks so it better to use packages"
   ]
  },
  {
   "attachments": {},
   "cell_type": "markdown",
   "metadata": {},
   "source": [
    "Now we are using model like (K-nearest neighbours) KNN\n",
    "length or distances between the x axis and y axis through point \n",
    "\n",
    "KNN(K - Near nebhour)"
   ]
  },
  {
   "cell_type": "code",
   "execution_count": null,
   "metadata": {},
   "outputs": [],
   "source": [
    "from sklearn.neighbors import KNeighborsClassifier\n",
    "from sklearn.metrics import classification_report"
   ]
  },
  {
   "cell_type": "code",
   "execution_count": null,
   "metadata": {},
   "outputs": [
    {
     "data": {
      "text/html": [
       "<style>#sk-container-id-1 {color: black;background-color: white;}#sk-container-id-1 pre{padding: 0;}#sk-container-id-1 div.sk-toggleable {background-color: white;}#sk-container-id-1 label.sk-toggleable__label {cursor: pointer;display: block;width: 100%;margin-bottom: 0;padding: 0.3em;box-sizing: border-box;text-align: center;}#sk-container-id-1 label.sk-toggleable__label-arrow:before {content: \"▸\";float: left;margin-right: 0.25em;color: #696969;}#sk-container-id-1 label.sk-toggleable__label-arrow:hover:before {color: black;}#sk-container-id-1 div.sk-estimator:hover label.sk-toggleable__label-arrow:before {color: black;}#sk-container-id-1 div.sk-toggleable__content {max-height: 0;max-width: 0;overflow: hidden;text-align: left;background-color: #f0f8ff;}#sk-container-id-1 div.sk-toggleable__content pre {margin: 0.2em;color: black;border-radius: 0.25em;background-color: #f0f8ff;}#sk-container-id-1 input.sk-toggleable__control:checked~div.sk-toggleable__content {max-height: 200px;max-width: 100%;overflow: auto;}#sk-container-id-1 input.sk-toggleable__control:checked~label.sk-toggleable__label-arrow:before {content: \"▾\";}#sk-container-id-1 div.sk-estimator input.sk-toggleable__control:checked~label.sk-toggleable__label {background-color: #d4ebff;}#sk-container-id-1 div.sk-label input.sk-toggleable__control:checked~label.sk-toggleable__label {background-color: #d4ebff;}#sk-container-id-1 input.sk-hidden--visually {border: 0;clip: rect(1px 1px 1px 1px);clip: rect(1px, 1px, 1px, 1px);height: 1px;margin: -1px;overflow: hidden;padding: 0;position: absolute;width: 1px;}#sk-container-id-1 div.sk-estimator {font-family: monospace;background-color: #f0f8ff;border: 1px dotted black;border-radius: 0.25em;box-sizing: border-box;margin-bottom: 0.5em;}#sk-container-id-1 div.sk-estimator:hover {background-color: #d4ebff;}#sk-container-id-1 div.sk-parallel-item::after {content: \"\";width: 100%;border-bottom: 1px solid gray;flex-grow: 1;}#sk-container-id-1 div.sk-label:hover label.sk-toggleable__label {background-color: #d4ebff;}#sk-container-id-1 div.sk-serial::before {content: \"\";position: absolute;border-left: 1px solid gray;box-sizing: border-box;top: 0;bottom: 0;left: 50%;z-index: 0;}#sk-container-id-1 div.sk-serial {display: flex;flex-direction: column;align-items: center;background-color: white;padding-right: 0.2em;padding-left: 0.2em;position: relative;}#sk-container-id-1 div.sk-item {position: relative;z-index: 1;}#sk-container-id-1 div.sk-parallel {display: flex;align-items: stretch;justify-content: center;background-color: white;position: relative;}#sk-container-id-1 div.sk-item::before, #sk-container-id-1 div.sk-parallel-item::before {content: \"\";position: absolute;border-left: 1px solid gray;box-sizing: border-box;top: 0;bottom: 0;left: 50%;z-index: -1;}#sk-container-id-1 div.sk-parallel-item {display: flex;flex-direction: column;z-index: 1;position: relative;background-color: white;}#sk-container-id-1 div.sk-parallel-item:first-child::after {align-self: flex-end;width: 50%;}#sk-container-id-1 div.sk-parallel-item:last-child::after {align-self: flex-start;width: 50%;}#sk-container-id-1 div.sk-parallel-item:only-child::after {width: 0;}#sk-container-id-1 div.sk-dashed-wrapped {border: 1px dashed gray;margin: 0 0.4em 0.5em 0.4em;box-sizing: border-box;padding-bottom: 0.4em;background-color: white;}#sk-container-id-1 div.sk-label label {font-family: monospace;font-weight: bold;display: inline-block;line-height: 1.2em;}#sk-container-id-1 div.sk-label-container {text-align: center;}#sk-container-id-1 div.sk-container {/* jupyter's `normalize.less` sets `[hidden] { display: none; }` but bootstrap.min.css set `[hidden] { display: none !important; }` so we also need the `!important` here to be able to override the default hidden behavior on the sphinx rendered scikit-learn.org. See: https://github.com/scikit-learn/scikit-learn/issues/21755 */display: inline-block !important;position: relative;}#sk-container-id-1 div.sk-text-repr-fallback {display: none;}</style><div id=\"sk-container-id-1\" class=\"sk-top-container\"><div class=\"sk-text-repr-fallback\"><pre>KNeighborsClassifier()</pre><b>In a Jupyter environment, please rerun this cell to show the HTML representation or trust the notebook. <br />On GitHub, the HTML representation is unable to render, please try loading this page with nbviewer.org.</b></div><div class=\"sk-container\" hidden><div class=\"sk-item\"><div class=\"sk-estimator sk-toggleable\"><input class=\"sk-toggleable__control sk-hidden--visually\" id=\"sk-estimator-id-1\" type=\"checkbox\" checked><label for=\"sk-estimator-id-1\" class=\"sk-toggleable__label sk-toggleable__label-arrow\">KNeighborsClassifier</label><div class=\"sk-toggleable__content\"><pre>KNeighborsClassifier()</pre></div></div></div></div></div>"
      ],
      "text/plain": [
       "KNeighborsClassifier()"
      ]
     },
     "execution_count": 19,
     "metadata": {},
     "output_type": "execute_result"
    }
   ],
   "source": [
    "knn_model=KNeighborsClassifier(n_neighbors=5) #using knn model\n",
    "knn_model.fit(x_train,y_train)#this line is use to train model"
   ]
  },
  {
   "cell_type": "code",
   "execution_count": null,
   "metadata": {},
   "outputs": [],
   "source": [
    "y_pred=knn_model.predict(x_test) #this line will give output of label data to compare with original data"
   ]
  },
  {
   "cell_type": "code",
   "execution_count": null,
   "metadata": {},
   "outputs": [
    {
     "data": {
      "text/plain": [
       "array([0, 1, 1, ..., 1, 0, 1])"
      ]
     },
     "execution_count": 21,
     "metadata": {},
     "output_type": "execute_result"
    }
   ],
   "source": [
    "y_pred #predicted value after code"
   ]
  },
  {
   "cell_type": "code",
   "execution_count": null,
   "metadata": {},
   "outputs": [
    {
     "data": {
      "text/plain": [
       "array([0, 1, 1, ..., 1, 0, 1])"
      ]
     },
     "execution_count": 22,
     "metadata": {},
     "output_type": "execute_result"
    }
   ],
   "source": [
    "y_test #Truth vale or original value given in dataset  we compare both y_predict and y_test"
   ]
  },
  {
   "cell_type": "code",
   "execution_count": null,
   "metadata": {},
   "outputs": [
    {
     "name": "stdout",
     "output_type": "stream",
     "text": [
      "              precision    recall  f1-score   support\n",
      "\n",
      "           0       0.76      0.74      0.75      1359\n",
      "           1       0.86      0.87      0.86      2445\n",
      "\n",
      "    accuracy                           0.82      3804\n",
      "   macro avg       0.81      0.80      0.81      3804\n",
      "weighted avg       0.82      0.82      0.82      3804\n",
      "\n"
     ]
    }
   ],
   "source": [
    "print (classification_report  (y_test, y_pred)) #this is diffence report of predict and actual report value \n",
    "# as u can see the accuracy is 0.81 means 81% means (how many do we get right and how many are total in dataset )\n",
    "#formula= value get/ total value eg- 80/100*100=80%"
   ]
  },
  {
   "attachments": {},
   "cell_type": "markdown",
   "metadata": {},
   "source": [
    "Till Here we have completed K-near nabhour KNN Model"
   ]
  },
  {
   "attachments": {},
   "cell_type": "markdown",
   "metadata": {},
   "source": [
    "We have used (K-Near nabhour) and now we will be using (Naive Bayes) model "
   ]
  },
  {
   "cell_type": "code",
   "execution_count": null,
   "metadata": {},
   "outputs": [
    {
     "ename": "",
     "evalue": "",
     "output_type": "error",
     "traceback": [
      "\u001b[1;31mFailed to start the Kernel. \n",
      "\u001b[1;31mUnable to start Kernel 'Python 3.10.2' due to connection timeout. \n",
      "\u001b[1;31mView Jupyter <a href='command:jupyter.viewOutput'>log</a> for further details."
     ]
    }
   ],
   "source": [
    "from sklearn.naive_bayes import GaussianNB  #importing naive bayes model"
   ]
  },
  {
   "cell_type": "code",
   "execution_count": null,
   "metadata": {},
   "outputs": [
    {
     "ename": "",
     "evalue": "",
     "output_type": "error",
     "traceback": [
      "\u001b[1;31mFailed to start the Kernel. \n",
      "\u001b[1;31mUnable to start Kernel 'Python 3.10.2' due to connection timeout. \n",
      "\u001b[1;31mView Jupyter <a href='command:jupyter.viewOutput'>log</a> for further details."
     ]
    }
   ],
   "source": [
    "nb_model= GaussianNB()\n",
    "nb_model= nb_model.fit(x_train,y_train)"
   ]
  },
  {
   "cell_type": "code",
   "execution_count": null,
   "metadata": {},
   "outputs": [
    {
     "ename": "",
     "evalue": "",
     "output_type": "error",
     "traceback": [
      "\u001b[1;31mFailed to start the Kernel. \n",
      "\u001b[1;31mUnable to start Kernel 'Python 3.10.2' due to connection timeout. \n",
      "\u001b[1;31mView Jupyter <a href='command:jupyter.viewOutput'>log</a> for further details."
     ]
    }
   ],
   "source": [
    "y_pred= nb_model.predict(x_test)"
   ]
  },
  {
   "cell_type": "code",
   "execution_count": null,
   "metadata": {},
   "outputs": [
    {
     "ename": "",
     "evalue": "",
     "output_type": "error",
     "traceback": [
      "\u001b[1;31mFailed to start the Kernel. \n",
      "\u001b[1;31mUnable to start Kernel 'Python 3.10.2' due to connection timeout. \n",
      "\u001b[1;31mView Jupyter <a href='command:jupyter.viewOutput'>log</a> for further details."
     ]
    }
   ],
   "source": [
    "print(classification_report(y_test,y_pred))"
   ]
  },
  {
   "attachments": {},
   "cell_type": "markdown",
   "metadata": {},
   "source": [
    "Four Basic step to implement Model    \n",
    "1.import library that related to model (eg - sklearn)    \n",
    "2.Fit model (train , test)    \n",
    "3.predic model code (eg - x_test)    \n",
    "4.print classification report (see accuracy)   "
   ]
  },
  {
   "attachments": {},
   "cell_type": "markdown",
   "metadata": {},
   "source": [
    "As you can see above our navel bayes giving less accouracy and precision is also not so good as compare to k near nabhour      \n",
    "LOGISTIC REGRESSION      \n",
    "Now we will use logistic regression and see what will be accuracy as compare to other 2 model"
   ]
  },
  {
   "cell_type": "code",
   "execution_count": null,
   "metadata": {},
   "outputs": [
    {
     "ename": "",
     "evalue": "",
     "output_type": "error",
     "traceback": [
      "\u001b[1;31mFailed to start the Kernel. \n",
      "\u001b[1;31mUnable to start Kernel 'Python 3.10.2' due to connection timeout. \n",
      "\u001b[1;31mView Jupyter <a href='command:jupyter.viewOutput'>log</a> for further details."
     ]
    }
   ],
   "source": [
    "from sklearn.linear_model import LogisticRegression\n",
    "#Sklearn is mostelt used for implemting model (eg- navel baise, regression , svm etc)"
   ]
  },
  {
   "cell_type": "code",
   "execution_count": null,
   "metadata": {},
   "outputs": [
    {
     "ename": "",
     "evalue": "",
     "output_type": "error",
     "traceback": [
      "\u001b[1;31mFailed to start the Kernel. \n",
      "\u001b[1;31mUnable to start Kernel 'Python 3.10.2' due to connection timeout. \n",
      "\u001b[1;31mView Jupyter <a href='command:jupyter.viewOutput'>log</a> for further details."
     ]
    }
   ],
   "source": [
    "lg_model=LogisticRegression()\n",
    "lg_model=lg_model.fit(x_train,y_train)"
   ]
  },
  {
   "cell_type": "code",
   "execution_count": null,
   "metadata": {},
   "outputs": [
    {
     "ename": "",
     "evalue": "",
     "output_type": "error",
     "traceback": [
      "\u001b[1;31mFailed to start the Kernel. \n",
      "\u001b[1;31mUnable to start Kernel 'Python 3.10.2' due to connection timeout. \n",
      "\u001b[1;31mView Jupyter <a href='command:jupyter.viewOutput'>log</a> for further details."
     ]
    }
   ],
   "source": [
    "y_pred= lg_model.predict(x_test)\n",
    "print(classification_report(y_test,y_pred))"
   ]
  },
  {
   "attachments": {},
   "cell_type": "markdown",
   "metadata": {},
   "source": [
    "Accuracy \n",
    "KNN model = 82% \n",
    "Navel Bayes model = 72%\n",
    "Linerregresssion model = 78% "
   ]
  },
  {
   "attachments": {},
   "cell_type": "markdown",
   "metadata": {},
   "source": [
    "Now we are using SVM  "
   ]
  },
  {
   "cell_type": "code",
   "execution_count": null,
   "metadata": {},
   "outputs": [
    {
     "ename": "",
     "evalue": "",
     "output_type": "error",
     "traceback": [
      "\u001b[1;31mFailed to start the Kernel. \n",
      "\u001b[1;31mUnable to start Kernel 'Python 3.10.2' due to connection timeout. \n",
      "\u001b[1;31mView Jupyter <a href='command:jupyter.viewOutput'>log</a> for further details."
     ]
    }
   ],
   "source": [
    "#SVM\n",
    "from sklearn.svm import SVC\n"
   ]
  },
  {
   "cell_type": "code",
   "execution_count": null,
   "metadata": {},
   "outputs": [
    {
     "ename": "",
     "evalue": "",
     "output_type": "error",
     "traceback": [
      "\u001b[1;31mFailed to start the Kernel. \n",
      "\u001b[1;31mUnable to start Kernel 'Python 3.10.2' due to connection timeout. \n",
      "\u001b[1;31mView Jupyter <a href='command:jupyter.viewOutput'>log</a> for further details."
     ]
    }
   ],
   "source": [
    "#fitting model\n",
    "svm_model= SVC()\n",
    "svm_model= svm_model.fit(x_train, y_train)"
   ]
  },
  {
   "cell_type": "code",
   "execution_count": null,
   "metadata": {},
   "outputs": [
    {
     "ename": "",
     "evalue": "",
     "output_type": "error",
     "traceback": [
      "\u001b[1;31mFailed to start the Kernel. \n",
      "\u001b[1;31mUnable to start Kernel 'Python 3.10.2' due to connection timeout. \n",
      "\u001b[1;31mView Jupyter <a href='command:jupyter.viewOutput'>log</a> for further details."
     ]
    }
   ],
   "source": [
    "#predict\n",
    "y_pred=svm_model.predict(x_test)\n",
    "print(classification_report(y_test,y_pred))\n"
   ]
  },
  {
   "attachments": {},
   "cell_type": "markdown",
   "metadata": {},
   "source": [
    "As u can see above it has high accuracy among all 3 model accuracy=85%"
   ]
  },
  {
   "attachments": {},
   "cell_type": "markdown",
   "metadata": {},
   "source": [
    "NEURAL NETWORK"
   ]
  },
  {
   "attachments": {},
   "cell_type": "markdown",
   "metadata": {},
   "source": [
    "We are using Tensor flow in neural network to avoid mistack and error free"
   ]
  },
  {
   "attachments": {},
   "cell_type": "markdown",
   "metadata": {},
   "source": [
    "Tensor Flow = opensource library help to develop and train ML Model"
   ]
  },
  {
   "cell_type": "code",
   "execution_count": 18,
   "metadata": {},
   "outputs": [],
   "source": [
    "import tensorflow as tf"
   ]
  },
  {
   "cell_type": "code",
   "execution_count": 24,
   "metadata": {},
   "outputs": [],
   "source": [
    "nn_model= tf.keras.Sequential([\n",
    "    tf.keras.layers.Dense(32,activation='relu',input_shape=(10,)),\n",
    "    tf.keras.layers.Dense(32,activation='relu'),\n",
    "    tf.keras.layers.Dense(1,activation='sigmoid')\n",
    "])\n",
    "nn_model.compile(optimizer=tf.keras.optimizers.Adam(0.001),loss='binary_crossentropy',\n",
    "                 metrics=['accuracy']) \n",
    "#giving loss factor and accuracy\n"
   ]
  },
  {
   "cell_type": "code",
   "execution_count": null,
   "metadata": {},
   "outputs": [],
   "source": [
    "# def plot_loss(history): #this define function is for loss \n",
    "#     plt.plot(history.history['loss'],label='loss')\n",
    "#     plt.plot(history.history['val_loss'],label='val_loss')\n",
    "#     plt.xlabel('Epoch') #epoch means trainig cycle\n",
    "#     #nural networkwork on history data\n",
    "#     plt.ylabel('Binary crossentropy') #binary= loss factor\n",
    "#     plt.legend()\n",
    "#     plt.grid(True) #ALWay write true or false in capital first letter\n",
    "#     plt.show()\n",
    "\n",
    "# def plot_accuracy(history): #this def function is for accuracy \n",
    "#     plt.plot(history.history['accuracy'],label='accuracy')\n",
    "#     plt.plot(history.history['val_accuracy'],label='val_accuracy')\n",
    "#     plt.xlabel('Epoch')\n",
    "#     plt.ylabel('Accuracy')\n",
    "#     plt.legend()\n",
    "#     plt.grid(True)\n",
    "#     plt.show()"
   ]
  },
  {
   "cell_type": "code",
   "execution_count": null,
   "metadata": {},
   "outputs": [],
   "source": [
    "# nn_model=tf.keras.Sequential([   #we doinging modfy to get more accuracy so we mody in accuacy section code\n",
    "#     tf.keras.layers.Dense(32,activation='relu',input_shape=(10,)), #in this line we chance 32 to now 64 to check the chnage \n",
    "#   # tf.keras.layers.Dropout(),  check that it should be comma at end of line not dot \n",
    "#     tf.keras.layers.Dense(32,activation='relu'),\n",
    "#     tf.keras.layers.Dense(1,activation='sigmoid') #we can also change value like 64,32,1 in activation \n",
    "# ])\n",
    "# nn_model.compile(optimizer=tf.keras.optimizers.Adam(0.001),loss='binary_crossentropy',\n",
    "#                  metrics=['accuracy'])\n"
   ]
  },
  {
   "cell_type": "code",
   "execution_count": 27,
   "metadata": {},
   "outputs": [
    {
     "name": "stdout",
     "output_type": "stream",
     "text": [
      "Epoch 1/100\n",
      "373/373 [==============================] - 2s 5ms/step - loss: 0.3277 - accuracy: 0.8639 - val_loss: 0.5663 - val_accuracy: 0.7160\n",
      "Epoch 2/100\n",
      "373/373 [==============================] - 2s 4ms/step - loss: 0.3251 - accuracy: 0.8658 - val_loss: 0.5368 - val_accuracy: 0.7260\n",
      "Epoch 3/100\n",
      "373/373 [==============================] - 1s 4ms/step - loss: 0.3222 - accuracy: 0.8660 - val_loss: 0.4912 - val_accuracy: 0.7512\n",
      "Epoch 4/100\n",
      "373/373 [==============================] - 2s 4ms/step - loss: 0.3197 - accuracy: 0.8668 - val_loss: 0.4508 - val_accuracy: 0.7753\n",
      "Epoch 5/100\n",
      "373/373 [==============================] - 2s 5ms/step - loss: 0.3169 - accuracy: 0.8691 - val_loss: 0.5533 - val_accuracy: 0.7186\n",
      "Epoch 6/100\n",
      "373/373 [==============================] - 2s 4ms/step - loss: 0.3151 - accuracy: 0.8679 - val_loss: 0.5501 - val_accuracy: 0.7200\n",
      "Epoch 7/100\n",
      "373/373 [==============================] - 2s 5ms/step - loss: 0.3134 - accuracy: 0.8691 - val_loss: 0.4793 - val_accuracy: 0.7569\n",
      "Epoch 8/100\n",
      "373/373 [==============================] - 2s 5ms/step - loss: 0.3110 - accuracy: 0.8711 - val_loss: 0.4956 - val_accuracy: 0.7384\n",
      "Epoch 9/100\n",
      "373/373 [==============================] - 2s 7ms/step - loss: 0.3099 - accuracy: 0.8715 - val_loss: 0.4249 - val_accuracy: 0.7736\n",
      "Epoch 10/100\n",
      "373/373 [==============================] - 3s 7ms/step - loss: 0.3079 - accuracy: 0.8715 - val_loss: 0.4703 - val_accuracy: 0.7539\n",
      "Epoch 11/100\n",
      "373/373 [==============================] - 1s 4ms/step - loss: 0.3060 - accuracy: 0.8747 - val_loss: 0.4487 - val_accuracy: 0.7649\n",
      "Epoch 12/100\n",
      "373/373 [==============================] - 2s 4ms/step - loss: 0.3049 - accuracy: 0.8741 - val_loss: 0.5258 - val_accuracy: 0.7267\n",
      "Epoch 13/100\n",
      "373/373 [==============================] - 2s 4ms/step - loss: 0.3040 - accuracy: 0.8727 - val_loss: 0.4958 - val_accuracy: 0.7418\n",
      "Epoch 14/100\n",
      "373/373 [==============================] - 2s 4ms/step - loss: 0.3026 - accuracy: 0.8720 - val_loss: 0.4750 - val_accuracy: 0.7562\n",
      "Epoch 15/100\n",
      "373/373 [==============================] - 2s 4ms/step - loss: 0.3020 - accuracy: 0.8741 - val_loss: 0.4516 - val_accuracy: 0.7602\n",
      "Epoch 16/100\n",
      "373/373 [==============================] - 2s 4ms/step - loss: 0.3010 - accuracy: 0.8722 - val_loss: 0.3792 - val_accuracy: 0.8052\n",
      "Epoch 17/100\n",
      "373/373 [==============================] - 2s 4ms/step - loss: 0.2994 - accuracy: 0.8764 - val_loss: 0.4562 - val_accuracy: 0.7545\n",
      "Epoch 18/100\n",
      "373/373 [==============================] - 2s 6ms/step - loss: 0.2974 - accuracy: 0.8759 - val_loss: 0.4196 - val_accuracy: 0.7877\n",
      "Epoch 19/100\n",
      "373/373 [==============================] - 2s 5ms/step - loss: 0.2973 - accuracy: 0.8765 - val_loss: 0.4588 - val_accuracy: 0.7629\n",
      "Epoch 20/100\n",
      "373/373 [==============================] - 2s 6ms/step - loss: 0.2961 - accuracy: 0.8774 - val_loss: 0.3863 - val_accuracy: 0.7911\n",
      "Epoch 21/100\n",
      "373/373 [==============================] - 2s 5ms/step - loss: 0.2945 - accuracy: 0.8789 - val_loss: 0.4139 - val_accuracy: 0.7857\n",
      "Epoch 22/100\n",
      "373/373 [==============================] - 2s 4ms/step - loss: 0.2955 - accuracy: 0.8774 - val_loss: 0.4729 - val_accuracy: 0.7565\n",
      "Epoch 23/100\n",
      "373/373 [==============================] - 2s 5ms/step - loss: 0.2937 - accuracy: 0.8767 - val_loss: 0.5362 - val_accuracy: 0.7237\n",
      "Epoch 24/100\n",
      "373/373 [==============================] - 1s 4ms/step - loss: 0.2930 - accuracy: 0.8767 - val_loss: 0.3977 - val_accuracy: 0.7975\n",
      "Epoch 25/100\n",
      "373/373 [==============================] - 1s 3ms/step - loss: 0.2934 - accuracy: 0.8758 - val_loss: 0.5412 - val_accuracy: 0.7227\n",
      "Epoch 26/100\n",
      "373/373 [==============================] - 1s 4ms/step - loss: 0.2918 - accuracy: 0.8793 - val_loss: 0.4168 - val_accuracy: 0.7857\n",
      "Epoch 27/100\n",
      "373/373 [==============================] - 1s 3ms/step - loss: 0.2905 - accuracy: 0.8799 - val_loss: 0.4536 - val_accuracy: 0.7616\n",
      "Epoch 28/100\n",
      "373/373 [==============================] - 2s 4ms/step - loss: 0.2910 - accuracy: 0.8784 - val_loss: 0.4112 - val_accuracy: 0.7850\n",
      "Epoch 29/100\n",
      "373/373 [==============================] - 1s 4ms/step - loss: 0.2889 - accuracy: 0.8790 - val_loss: 0.4687 - val_accuracy: 0.7582\n",
      "Epoch 30/100\n",
      "373/373 [==============================] - 2s 4ms/step - loss: 0.2904 - accuracy: 0.8782 - val_loss: 0.3541 - val_accuracy: 0.8243\n",
      "Epoch 31/100\n",
      "373/373 [==============================] - 2s 5ms/step - loss: 0.2896 - accuracy: 0.8777 - val_loss: 0.4097 - val_accuracy: 0.7928\n",
      "Epoch 32/100\n",
      "373/373 [==============================] - 2s 4ms/step - loss: 0.2876 - accuracy: 0.8793 - val_loss: 0.4189 - val_accuracy: 0.7948\n",
      "Epoch 33/100\n",
      "373/373 [==============================] - 2s 4ms/step - loss: 0.2873 - accuracy: 0.8800 - val_loss: 0.4265 - val_accuracy: 0.7730\n",
      "Epoch 34/100\n",
      "373/373 [==============================] - 2s 4ms/step - loss: 0.2862 - accuracy: 0.8786 - val_loss: 0.4073 - val_accuracy: 0.8001\n",
      "Epoch 35/100\n",
      "373/373 [==============================] - 2s 6ms/step - loss: 0.2876 - accuracy: 0.8778 - val_loss: 0.3722 - val_accuracy: 0.8042\n",
      "Epoch 36/100\n",
      "373/373 [==============================] - 2s 5ms/step - loss: 0.2858 - accuracy: 0.8789 - val_loss: 0.4856 - val_accuracy: 0.7508\n",
      "Epoch 37/100\n",
      "373/373 [==============================] - 3s 7ms/step - loss: 0.2844 - accuracy: 0.8810 - val_loss: 0.4545 - val_accuracy: 0.7683\n",
      "Epoch 38/100\n",
      "373/373 [==============================] - 3s 7ms/step - loss: 0.2862 - accuracy: 0.8822 - val_loss: 0.4406 - val_accuracy: 0.7746\n",
      "Epoch 39/100\n",
      "373/373 [==============================] - 3s 9ms/step - loss: 0.2835 - accuracy: 0.8810 - val_loss: 0.4441 - val_accuracy: 0.7777\n",
      "Epoch 40/100\n",
      "373/373 [==============================] - 2s 5ms/step - loss: 0.2828 - accuracy: 0.8817 - val_loss: 0.4478 - val_accuracy: 0.7736\n",
      "Epoch 41/100\n",
      "373/373 [==============================] - 3s 8ms/step - loss: 0.2827 - accuracy: 0.8808 - val_loss: 0.4560 - val_accuracy: 0.7606\n",
      "Epoch 42/100\n",
      "373/373 [==============================] - 2s 5ms/step - loss: 0.2825 - accuracy: 0.8812 - val_loss: 0.4096 - val_accuracy: 0.7864\n",
      "Epoch 43/100\n",
      "373/373 [==============================] - 2s 6ms/step - loss: 0.2820 - accuracy: 0.8819 - val_loss: 0.4144 - val_accuracy: 0.7877\n",
      "Epoch 44/100\n",
      "373/373 [==============================] - 3s 7ms/step - loss: 0.2816 - accuracy: 0.8797 - val_loss: 0.4432 - val_accuracy: 0.7817\n",
      "Epoch 45/100\n",
      "373/373 [==============================] - 2s 5ms/step - loss: 0.2816 - accuracy: 0.8817 - val_loss: 0.3838 - val_accuracy: 0.8048\n",
      "Epoch 46/100\n",
      "373/373 [==============================] - 2s 4ms/step - loss: 0.2804 - accuracy: 0.8808 - val_loss: 0.4733 - val_accuracy: 0.7488\n",
      "Epoch 47/100\n",
      "373/373 [==============================] - 2s 5ms/step - loss: 0.2802 - accuracy: 0.8816 - val_loss: 0.4488 - val_accuracy: 0.7679\n",
      "Epoch 48/100\n",
      "373/373 [==============================] - 2s 4ms/step - loss: 0.2804 - accuracy: 0.8817 - val_loss: 0.4423 - val_accuracy: 0.7733\n",
      "Epoch 49/100\n",
      "373/373 [==============================] - 2s 4ms/step - loss: 0.2796 - accuracy: 0.8838 - val_loss: 0.4106 - val_accuracy: 0.7881\n",
      "Epoch 50/100\n",
      "373/373 [==============================] - 2s 5ms/step - loss: 0.2794 - accuracy: 0.8800 - val_loss: 0.5065 - val_accuracy: 0.7478\n",
      "Epoch 51/100\n",
      "373/373 [==============================] - 3s 7ms/step - loss: 0.2781 - accuracy: 0.8818 - val_loss: 0.5164 - val_accuracy: 0.7371\n",
      "Epoch 52/100\n",
      "373/373 [==============================] - 2s 4ms/step - loss: 0.2786 - accuracy: 0.8821 - val_loss: 0.4200 - val_accuracy: 0.7797\n",
      "Epoch 53/100\n",
      "373/373 [==============================] - 2s 4ms/step - loss: 0.2760 - accuracy: 0.8845 - val_loss: 0.5138 - val_accuracy: 0.7435\n",
      "Epoch 54/100\n",
      "373/373 [==============================] - 2s 5ms/step - loss: 0.2769 - accuracy: 0.8848 - val_loss: 0.3869 - val_accuracy: 0.7961\n",
      "Epoch 55/100\n",
      "373/373 [==============================] - 2s 5ms/step - loss: 0.2764 - accuracy: 0.8844 - val_loss: 0.5169 - val_accuracy: 0.7468\n",
      "Epoch 56/100\n",
      "373/373 [==============================] - 2s 4ms/step - loss: 0.2751 - accuracy: 0.8840 - val_loss: 0.4275 - val_accuracy: 0.7767\n",
      "Epoch 57/100\n",
      "373/373 [==============================] - 2s 4ms/step - loss: 0.2756 - accuracy: 0.8843 - val_loss: 0.4312 - val_accuracy: 0.7840\n",
      "Epoch 58/100\n",
      "373/373 [==============================] - 2s 4ms/step - loss: 0.2760 - accuracy: 0.8837 - val_loss: 0.3698 - val_accuracy: 0.8048\n",
      "Epoch 59/100\n",
      "373/373 [==============================] - 2s 4ms/step - loss: 0.2755 - accuracy: 0.8829 - val_loss: 0.4454 - val_accuracy: 0.7773\n",
      "Epoch 60/100\n",
      "373/373 [==============================] - 2s 4ms/step - loss: 0.2745 - accuracy: 0.8846 - val_loss: 0.4283 - val_accuracy: 0.7814\n",
      "Epoch 61/100\n",
      "373/373 [==============================] - 2s 4ms/step - loss: 0.2737 - accuracy: 0.8827 - val_loss: 0.5053 - val_accuracy: 0.7414\n",
      "Epoch 62/100\n",
      "373/373 [==============================] - 2s 5ms/step - loss: 0.2738 - accuracy: 0.8829 - val_loss: 0.4496 - val_accuracy: 0.7753\n",
      "Epoch 63/100\n",
      "373/373 [==============================] - 2s 4ms/step - loss: 0.2734 - accuracy: 0.8850 - val_loss: 0.4320 - val_accuracy: 0.7790\n",
      "Epoch 64/100\n",
      "373/373 [==============================] - 2s 4ms/step - loss: 0.2733 - accuracy: 0.8854 - val_loss: 0.4206 - val_accuracy: 0.7830\n",
      "Epoch 65/100\n",
      "373/373 [==============================] - 2s 4ms/step - loss: 0.2728 - accuracy: 0.8843 - val_loss: 0.5187 - val_accuracy: 0.7461\n",
      "Epoch 66/100\n",
      "373/373 [==============================] - 2s 5ms/step - loss: 0.2726 - accuracy: 0.8835 - val_loss: 0.4991 - val_accuracy: 0.7431\n",
      "Epoch 67/100\n",
      "373/373 [==============================] - 2s 4ms/step - loss: 0.2716 - accuracy: 0.8866 - val_loss: 0.4170 - val_accuracy: 0.7921\n",
      "Epoch 68/100\n",
      "373/373 [==============================] - 2s 5ms/step - loss: 0.2720 - accuracy: 0.8868 - val_loss: 0.4067 - val_accuracy: 0.7928\n",
      "Epoch 69/100\n",
      "373/373 [==============================] - 2s 4ms/step - loss: 0.2713 - accuracy: 0.8846 - val_loss: 0.4540 - val_accuracy: 0.7689\n",
      "Epoch 70/100\n",
      "373/373 [==============================] - 2s 5ms/step - loss: 0.2703 - accuracy: 0.8865 - val_loss: 0.4143 - val_accuracy: 0.7958\n",
      "Epoch 71/100\n",
      "373/373 [==============================] - 2s 4ms/step - loss: 0.2709 - accuracy: 0.8848 - val_loss: 0.4274 - val_accuracy: 0.7763\n",
      "Epoch 72/100\n",
      "373/373 [==============================] - 2s 5ms/step - loss: 0.2700 - accuracy: 0.8840 - val_loss: 0.4242 - val_accuracy: 0.7904\n",
      "Epoch 73/100\n",
      "373/373 [==============================] - 2s 5ms/step - loss: 0.2700 - accuracy: 0.8859 - val_loss: 0.3866 - val_accuracy: 0.7958\n",
      "Epoch 74/100\n",
      "373/373 [==============================] - 2s 5ms/step - loss: 0.2676 - accuracy: 0.8890 - val_loss: 0.3960 - val_accuracy: 0.7975\n",
      "Epoch 75/100\n",
      "373/373 [==============================] - 2s 4ms/step - loss: 0.2692 - accuracy: 0.8882 - val_loss: 0.4353 - val_accuracy: 0.7773\n",
      "Epoch 76/100\n",
      "373/373 [==============================] - 2s 4ms/step - loss: 0.2686 - accuracy: 0.8860 - val_loss: 0.4311 - val_accuracy: 0.7787\n",
      "Epoch 77/100\n",
      "373/373 [==============================] - 2s 5ms/step - loss: 0.2678 - accuracy: 0.8893 - val_loss: 0.3857 - val_accuracy: 0.8068\n",
      "Epoch 78/100\n",
      "373/373 [==============================] - 2s 4ms/step - loss: 0.2690 - accuracy: 0.8870 - val_loss: 0.4089 - val_accuracy: 0.7881\n",
      "Epoch 79/100\n",
      "373/373 [==============================] - 2s 4ms/step - loss: 0.2678 - accuracy: 0.8869 - val_loss: 0.4420 - val_accuracy: 0.7797\n",
      "Epoch 80/100\n",
      "373/373 [==============================] - 2s 4ms/step - loss: 0.2663 - accuracy: 0.8888 - val_loss: 0.3936 - val_accuracy: 0.8038\n",
      "Epoch 81/100\n",
      "373/373 [==============================] - 2s 4ms/step - loss: 0.2672 - accuracy: 0.8883 - val_loss: 0.4364 - val_accuracy: 0.7740\n",
      "Epoch 82/100\n",
      "373/373 [==============================] - 1s 4ms/step - loss: 0.2662 - accuracy: 0.8893 - val_loss: 0.3648 - val_accuracy: 0.8196\n",
      "Epoch 83/100\n",
      "373/373 [==============================] - 2s 5ms/step - loss: 0.2661 - accuracy: 0.8880 - val_loss: 0.4682 - val_accuracy: 0.7703\n",
      "Epoch 84/100\n",
      "373/373 [==============================] - 2s 5ms/step - loss: 0.2668 - accuracy: 0.8881 - val_loss: 0.4102 - val_accuracy: 0.7884\n",
      "Epoch 85/100\n",
      "373/373 [==============================] - 2s 4ms/step - loss: 0.2640 - accuracy: 0.8897 - val_loss: 0.4487 - val_accuracy: 0.7703\n",
      "Epoch 86/100\n",
      "373/373 [==============================] - 2s 4ms/step - loss: 0.2659 - accuracy: 0.8866 - val_loss: 0.3532 - val_accuracy: 0.8226\n",
      "Epoch 87/100\n",
      "373/373 [==============================] - 2s 4ms/step - loss: 0.2648 - accuracy: 0.8901 - val_loss: 0.4051 - val_accuracy: 0.7991\n",
      "Epoch 88/100\n",
      "373/373 [==============================] - 2s 5ms/step - loss: 0.2649 - accuracy: 0.8876 - val_loss: 0.4771 - val_accuracy: 0.7626\n",
      "Epoch 89/100\n",
      "373/373 [==============================] - 2s 4ms/step - loss: 0.2642 - accuracy: 0.8904 - val_loss: 0.4435 - val_accuracy: 0.7777\n",
      "Epoch 90/100\n",
      "373/373 [==============================] - 1s 4ms/step - loss: 0.2648 - accuracy: 0.8882 - val_loss: 0.4026 - val_accuracy: 0.7978\n",
      "Epoch 91/100\n",
      "373/373 [==============================] - 2s 4ms/step - loss: 0.2635 - accuracy: 0.8887 - val_loss: 0.4220 - val_accuracy: 0.7830\n",
      "Epoch 92/100\n",
      "373/373 [==============================] - 2s 5ms/step - loss: 0.2636 - accuracy: 0.8896 - val_loss: 0.4380 - val_accuracy: 0.7817\n",
      "Epoch 93/100\n",
      "373/373 [==============================] - 2s 4ms/step - loss: 0.2627 - accuracy: 0.8895 - val_loss: 0.3518 - val_accuracy: 0.8199\n",
      "Epoch 94/100\n",
      "373/373 [==============================] - 2s 6ms/step - loss: 0.2641 - accuracy: 0.8873 - val_loss: 0.4545 - val_accuracy: 0.7713\n",
      "Epoch 95/100\n",
      "373/373 [==============================] - 2s 5ms/step - loss: 0.2639 - accuracy: 0.8871 - val_loss: 0.4097 - val_accuracy: 0.7954\n",
      "Epoch 96/100\n",
      "373/373 [==============================] - 2s 5ms/step - loss: 0.2620 - accuracy: 0.8897 - val_loss: 0.4569 - val_accuracy: 0.7700\n",
      "Epoch 97/100\n",
      "373/373 [==============================] - 2s 6ms/step - loss: 0.2623 - accuracy: 0.8897 - val_loss: 0.4060 - val_accuracy: 0.7991\n",
      "Epoch 98/100\n",
      "373/373 [==============================] - 2s 5ms/step - loss: 0.2619 - accuracy: 0.8890 - val_loss: 0.3825 - val_accuracy: 0.7971\n",
      "Epoch 99/100\n",
      "373/373 [==============================] - 2s 4ms/step - loss: 0.2611 - accuracy: 0.8907 - val_loss: 0.4208 - val_accuracy: 0.7928\n",
      "Epoch 100/100\n",
      "373/373 [==============================] - 2s 5ms/step - loss: 0.2619 - accuracy: 0.8905 - val_loss: 0.3532 - val_accuracy: 0.8266\n"
     ]
    }
   ],
   "source": [
    "history=nn_model.fit(\n",
    "    x_train,y_train,epochs=100,batch_size=32,validation_split=0.2\n",
    ") # verbose=0 means ingore outupt bcz it annoing"
   ]
  },
  {
   "cell_type": "code",
   "execution_count": null,
   "metadata": {},
   "outputs": [
    {
     "data": {
      "image/png": "[encoded data removed]",
      "text/plain": [
       "<Figure size 432x288 with 1 Axes>"
      ]
     },
     "metadata": {
      "needs_background": "light"
     },
     "output_type": "display_data"
    },
    {
     "data": {
      "image/png": "[encoded data removed]",
      "text/plain": [
       "<Figure size 432x288 with 1 Axes>"
      ]
     },
     "metadata": {
      "needs_background": "light"
     },
     "output_type": "display_data"
    }
   ],
   "source": [
    "# plot_loss(history)\n",
    "# plot_accuracy(history)"
   ]
  },
  {
   "attachments": {},
   "cell_type": "markdown",
   "metadata": {},
   "source": [
    "This is modified line of code given below to just check output  \n",
    "Above 3 line should be ignore directly used below line for new expriment"
   ]
  },
  {
   "cell_type": "code",
   "execution_count": 20,
   "metadata": {},
   "outputs": [],
   "source": [
    "def plot_history(history): #this define function is for loss \n",
    "    fig,(ax1,ax2)= plt.subplots(1,2, figsize=(10,4))\n",
    "    ax1.plot(history.history['loss'],label='loss')\n",
    "    ax1.plot(history.history['val_loss'],label='val_loss')\n",
    "    ax1.set_xlabel('Epoch') #epoch means trainig cycle\n",
    "    #nural networkwork on history data\n",
    "    ax1.set_ylabel('Binary crossentropy') #binary= loss factor\n",
    "    ax1.grid(True) #ALWay write true or false in capital first letter\n",
    "    \n",
    "\n",
    "\n",
    "    ax2.plot(history.history['accuracy'],label='accuracy')\n",
    "    ax2.plot(history.history['val_accuracy'],label='val_accuracy')\n",
    "    ax2.set_xlabel('Epoch')\n",
    "    ax2.set_ylabel('Accuracy')\n",
    "    ax2.grid(True)\n",
    "    \n",
    "    plt.show()"
   ]
  },
  {
   "cell_type": "code",
   "execution_count": 28,
   "metadata": {},
   "outputs": [
    {
     "data": {
      "image/png": "[encoded data removed]",
      "text/plain": [
       "<Figure size 720x288 with 2 Axes>"
      ]
     },
     "metadata": {
      "needs_background": "light"
     },
     "output_type": "display_data"
    }
   ],
   "source": [
    "plot_history(history)"
   ]
  },
  {
   "cell_type": "code",
   "execution_count": 21,
   "metadata": {},
   "outputs": [],
   "source": [
    "def train_model(x_train,y_train,num_nodes,dropout_prob,lr,batch_size,epochs):\n",
    "    nn_model=tf.keras.Sequential([\n",
    "        tf.keras.layers.Dense(num_nodes,activation='relu',input_shape=(10,)), #giving ranrom select of node \n",
    "        tf.keras.layers.Dropout(dropout_prob), #extra dropout line , dropout prevent from overfitting\n",
    "        tf.keras.layers.Dense(num_nodes,activation='relu'),\n",
    "        tf.keras.layers.Dropout(dropout_prob), #extra droupout line\n",
    "        tf.keras.layers.Dense(1,activation='sigmoid')\n",
    "    ])\n",
    "    nn_model.compile(optimizer=tf.keras.optimizers.Adam(lr),loss='binary_crossentropy',\n",
    "                 metrics=['accuracy'])\n",
    "    history=nn_model.fit(\n",
    "        x_train, y_train, epochs=epochs, batch_size=batch_size, validation_split=0.2\n",
    "    )\n",
    "    return nn_model, history"
   ]
  },
  {
   "cell_type": "code",
   "execution_count": 38,
   "metadata": {},
   "outputs": [
    {
     "ename": "SyntaxError",
     "evalue": "invalid syntax (3120521903.py, line 14)",
     "output_type": "error",
     "traceback": [
      "\u001b[1;36m  Cell \u001b[1;32mIn[38], line 14\u001b[1;36m\u001b[0m\n\u001b[1;33m    least_loss_model=model.\u001b[0m\n\u001b[1;37m                           ^\u001b[0m\n\u001b[1;31mSyntaxError\u001b[0m\u001b[1;31m:\u001b[0m invalid syntax\n"
     ]
    }
   ],
   "source": [
    "least_val_loss= float('inf')   #this command will take lot of time \n",
    "least_loss_model= None\n",
    "epochs=100\n",
    "for num_nodes in[16,32,64]:\n",
    "    for  dropout_prob in[0,0.2]:\n",
    "        for lr in [0.01,0.005,0.001]: #lr = Learning rate\n",
    "            for batch_size in [32,64,128]:\n",
    "                print(f'{num_nodes}nodes,dropout{dropout_prob}, lr{lr},batch size{batch_size}')\n",
    "                model,history=train_model(x_train,y_train,num_nodes,dropout_prob,lr,batch_size,epochs)\n",
    "                plot_history(history)\n",
    "                val_loss=model.evaluate(x_valid,y_valid)[0]\n",
    "                if val_loss<least_val_loss:\n",
    "                    least_val_loss=val_loss\n",
    "                    least_loss_model=model"
   ]
  },
  {
   "cell_type": "code",
   "execution_count": 33,
   "metadata": {},
   "outputs": [
    {
     "name": "stdout",
     "output_type": "stream",
     "text": [
      "119/119 [==============================] - 1s 3ms/step\n"
     ]
    }
   ],
   "source": [
    "y_pred=least_loss_model.predict(x_test)\n",
    "y_pred=(y_pred> 0.5).astype(int).reshape(-1,)\n"
   ]
  },
  {
   "cell_type": "code",
   "execution_count": 36,
   "metadata": {},
   "outputs": [
    {
     "ename": "NameError",
     "evalue": "name 'classification_report' is not defined",
     "output_type": "error",
     "traceback": [
      "\u001b[1;31m---------------------------------------------------------------------------\u001b[0m",
      "\u001b[1;31mNameError\u001b[0m                                 Traceback (most recent call last)",
      "Cell \u001b[1;32mIn[36], line 1\u001b[0m\n\u001b[1;32m----> 1\u001b[0m \u001b[39mprint\u001b[39m(classification_report(y_test,y_pred))\n",
      "\u001b[1;31mNameError\u001b[0m: name 'classification_report' is not defined"
     ]
    }
   ],
   "source": [
    "print(classification_report(y_test,y_pred))\n",
    "# Last step of nural netwok \n",
    "# finish Neural network"
   ]
  },
  {
   "attachments": {},
   "cell_type": "markdown",
   "metadata": {},
   "source": [
    "Now we will using linear regression model   \n",
    "LINEAR REGRESSSION"
   ]
  },
  {
   "attachments": {},
   "cell_type": "markdown",
   "metadata": {},
   "source": [
    "1.Mean absolute error  \n",
    "2.Mean Square error  \n",
    "3.Root Mean Square errror   \n",
    "4.coff of determination   "
   ]
  },
  {
   "cell_type": "code",
   "execution_count": null,
   "metadata": {},
   "outputs": [],
   "source": []
  }
 ],
 "metadata": {
  "kernelspec": {
   "display_name": "Python 3",
   "language": "python",
   "name": "python3"
  },
  "language_info": {
   "codemirror_mode": {
    "name": "ipython",
    "version": 3
   },
   "file_extension": ".py",
   "mimetype": "text/x-python",
   "name": "python",
   "nbconvert_exporter": "python",
   "pygments_lexer": "ipython3",
   "version": "3.10.2"
  },
  "orig_nbformat": 4
 },
 "nbformat": 4,
 "nbformat_minor": 2
}
